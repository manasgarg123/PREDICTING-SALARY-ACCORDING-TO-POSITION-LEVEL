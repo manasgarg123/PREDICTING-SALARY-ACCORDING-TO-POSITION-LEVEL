{
  "nbformat": 4,
  "nbformat_minor": 0,
  "metadata": {
    "colab": {
      "name": "PREDICTING SALARY ACCORDING TO POSITION LEVEL.ipynb",
      "provenance": [],
      "collapsed_sections": [],
      "toc_visible": true
    },
    "kernelspec": {
      "name": "python3",
      "display_name": "Python 3"
    }
  },
  "cells": [
    {
      "cell_type": "markdown",
      "metadata": {
        "id": "vN99YjPTDena"
      },
      "source": [
        "# PREDICTING SALARY ACCORDING TO POSITION LEVEL"
      ]
    },
    {
      "cell_type": "markdown",
      "metadata": {
        "id": "ZIx_naXnDyHd"
      },
      "source": [
        "## Importing the libraries"
      ]
    },
    {
      "cell_type": "code",
      "metadata": {
        "id": "FjnmdyPLD2tS"
      },
      "source": [
        "import numpy as np\n",
        "import matplotlib.pyplot as plt\n",
        "import pandas as pd"
      ],
      "execution_count": null,
      "outputs": []
    },
    {
      "cell_type": "markdown",
      "metadata": {
        "id": "6c8YExmOD5x5"
      },
      "source": [
        "## Importing the dataset"
      ]
    },
    {
      "cell_type": "code",
      "metadata": {
        "id": "nQOdXhjXD_AE"
      },
      "source": [
        "dataset = pd.read_csv('Position_Salaries.csv')\n",
        "X = dataset.iloc[:, 1:-1].values\n",
        "y = dataset.iloc[:, -1].values"
      ],
      "execution_count": null,
      "outputs": []
    },
    {
      "cell_type": "markdown",
      "metadata": {
        "id": "Rb5nWuSHEfBV"
      },
      "source": [
        "## Training the model on the whole dataset"
      ]
    },
    {
      "cell_type": "code",
      "metadata": {
        "id": "HYplp4pTEm0O",
        "colab": {
          "base_uri": "https://localhost:8080/",
          "height": 35
        },
        "outputId": "4c3c03dd-0def-4584-a893-aa2e72629e8f"
      },
      "source": [
        "from sklearn.preprocessing import PolynomialFeatures\n",
        "poly_reg = PolynomialFeatures(degree = 4)\n",
        "X_poly = poly_reg.fit_transform(X)\n",
        "lin_reg_2 = LinearRegression()\n",
        "lin_reg_2.fit(X_poly, y)"
      ],
      "execution_count": null,
      "outputs": [
        {
          "output_type": "execute_result",
          "data": {
            "text/plain": [
              "LinearRegression(copy_X=True, fit_intercept=True, n_jobs=None, normalize=False)"
            ]
          },
          "metadata": {
            "tags": []
          },
          "execution_count": 4
        }
      ]
    },
    {
      "cell_type": "markdown",
      "metadata": {
        "id": "stOnSo74E52m"
      },
      "source": [
        "## Visualising results"
      ]
    },
    {
      "cell_type": "code",
      "metadata": {
        "id": "UCOcurIQE7Zv",
        "colab": {
          "base_uri": "https://localhost:8080/",
          "height": 295
        },
        "outputId": "93927499-de98-4a31-a619-c373926cbe56"
      },
      "source": [
        "plt.scatter(X, y, color = 'red')\n",
        "plt.plot(X, lin_reg_2.predict(poly_reg.fit_transform(X)), color = 'blue')\n",
        "plt.title('Truth or Bluff (Polynomial Regression)')\n",
        "plt.xlabel('Position level')\n",
        "plt.ylabel('Salary')\n",
        "plt.show()"
      ],
      "execution_count": null,
      "outputs": [
        {
          "output_type": "display_data",
          "data": {
            "image/png": "[encoded data removed]",
            "text/plain": [
              "<Figure size 432x288 with 1 Axes>"
            ]
          },
          "metadata": {
            "tags": [],
            "needs_background": "light"
          }
        }
      ]
    },
    {
      "cell_type": "markdown",
      "metadata": {
        "id": "DW7I7ZVDFNkk"
      },
      "source": [
        "## Predicting The result "
      ]
    },
    {
      "cell_type": "code",
      "metadata": {
        "id": "uQmtnyTHFRGG",
        "colab": {
          "base_uri": "https://localhost:8080/",
          "height": 35
        },
        "outputId": "2739bf8a-6dfb-4226-b200-252ee8857097"
      },
      "source": [
        "lin_reg_2.predict(poly_reg.fit_transform([[6.5]]))"
      ],
      "execution_count": null,
      "outputs": [
        {
          "output_type": "execute_result",
          "data": {
            "text/plain": [
              "array([158862.45265155])"
            ]
          },
          "metadata": {
            "tags": []
          },
          "execution_count": 9
        }
      ]
    }
  ]
}